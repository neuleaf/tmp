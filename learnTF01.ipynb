{
 "cells": [
  {
   "cell_type": "code",
   "execution_count": 1,
   "metadata": {
    "collapsed": true
   },
   "outputs": [],
   "source": [
    "import tensorflow as tf\n",
    "import numpy as np"
   ]
  },
  {
   "cell_type": "code",
   "execution_count": 21,
   "metadata": {
    "collapsed": false
   },
   "outputs": [],
   "source": [
    "a=tf.constant(10)\n",
    "b=tf.constant(2)\n",
    "c=tf.div(a, b)\n",
    "#init_op=tf.global_variables_initializer()"
   ]
  },
  {
   "cell_type": "code",
   "execution_count": 22,
   "metadata": {
    "collapsed": false
   },
   "outputs": [
    {
     "name": "stdout",
     "output_type": "stream",
     "text": [
      "10\n",
      "5\n"
     ]
    }
   ],
   "source": [
    "with tf.Session() as sess:\n",
    "    print a.eval()\n",
    "    sess.run(init_op)\n",
    "    print(sess.run(c))"
   ]
  },
  {
   "cell_type": "markdown",
   "metadata": {},
   "source": [
    "## network variable_name test"
   ]
  },
  {
   "cell_type": "code",
   "execution_count": 12,
   "metadata": {
    "collapsed": false
   },
   "outputs": [
    {
     "name": "stdout",
     "output_type": "stream",
     "text": [
      "Tensor(\"Mul_15:0\", shape=(), dtype=int32) Tensor(\"Const_9:0\", shape=(), dtype=int32)\n",
      "16\n"
     ]
    }
   ],
   "source": [
    "x=tf.constant(1)\n",
    "w=tf.constant(2)\n",
    "o=tf.multiply(x,w)\n",
    "o=tf.multiply(o,w)\n",
    "o=tf.multiply(o,w)\n",
    "o=tf.multiply(o,w)\n",
    "print o,w\n",
    "with tf.Session() as sess:\n",
    "    tf.global_variables_initializer()\n",
    "    r=sess.run(o)\n",
    "    print r"
   ]
  },
  {
   "cell_type": "markdown",
   "metadata": {},
   "source": [
    "## multi returns"
   ]
  },
  {
   "cell_type": "code",
   "execution_count": 5,
   "metadata": {
    "collapsed": false
   },
   "outputs": [
    {
     "name": "stdout",
     "output_type": "stream",
     "text": [
      "[2, 4, 8]\n"
     ]
    }
   ],
   "source": [
    "a=tf.constant(1)\n",
    "b=tf.constant(2)\n",
    "o1=tf.multiply(a,b)\n",
    "o2=tf.multiply(o1,b)\n",
    "o3=tf.multiply(o2,b)\n",
    "with tf.Session() as sess:\n",
    "    # how many times does o1=tf.muliply run?\n",
    "    print(sess.run([o1,o2,o3]))"
   ]
  },
  {
   "cell_type": "code",
   "execution_count": 10,
   "metadata": {
    "collapsed": false
   },
   "outputs": [
    {
     "name": "stdout",
     "output_type": "stream",
     "text": [
      "<tensorflow.python.framework.ops.Graph object at 0x7fb5fc0b3190>\n",
      "<tensorflow.python.framework.ops.Graph object at 0x7fb60043e1d0>\n"
     ]
    }
   ],
   "source": [
    "hello=tf.constant('hello')\n",
    "with tf.Graph().as_default():\n",
    "    hi=tf.constant(\"hi\")\n",
    "    print(hi.graph)\n",
    "    print(hello.graph)"
   ]
  }
 ],
 "metadata": {
  "anaconda-cloud": {},
  "kernelspec": {
   "display_name": "Python [conda root]",
   "language": "python",
   "name": "conda-root-py"
  },
  "language_info": {
   "codemirror_mode": {
    "name": "ipython",
    "version": 3
   },
   "file_extension": ".py",
   "mimetype": "text/x-python",
   "name": "python",
   "nbconvert_exporter": "python",
   "pygments_lexer": "ipython3",
   "version": "3.5.2"
  }
 },
 "nbformat": 4,
 "nbformat_minor": 1
}
