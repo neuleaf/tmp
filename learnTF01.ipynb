{
 "cells": [
  {
   "cell_type": "code",
   "execution_count": 1,
   "metadata": {
    "collapsed": true
   },
   "outputs": [],
   "source": [
    "import tensorflow as tf\n",
    "import numpy as np"
   ]
  },
  {
   "cell_type": "code",
   "execution_count": 8,
   "metadata": {
    "collapsed": false
   },
   "outputs": [
    {
     "name": "stdout",
     "output_type": "stream",
     "text": [
      "[[ 1.  1.  1.]\n",
      " [ 1.  1.  1.]]\n"
     ]
    },
    {
     "data": {
      "text/plain": [
       "1.0"
      ]
     },
     "execution_count": 8,
     "metadata": {},
     "output_type": "execute_result"
    }
   ],
   "source": [
    "a=np.ones((2,3))\n",
    "print(a)\n",
    "np.max(a)"
   ]
  },
  {
   "cell_type": "code",
   "execution_count": 2,
   "metadata": {
    "collapsed": false
   },
   "outputs": [
    {
     "name": "stdout",
     "output_type": "stream",
     "text": [
      "foo/a:0\n",
      "foo/biases:0\n",
      "foo_1/c:0\n"
     ]
    }
   ],
   "source": [
    "with tf.variable_scope('foo') as foo:\n",
    "    a=tf.constant(0, name='a')\n",
    "    biases = tf.get_variable(shape=[512],initializer=tf.constant_initializer(0.0),  name='biases')\n",
    "    print(a.name,)\n",
    "    print(biases.name)\n",
    "with tf.variable_scope(foo, reuse=True):\n",
    "    c=tf.constant('2', name='c')\n",
    "    print(c.name)"
   ]
  },
  {
   "cell_type": "code",
   "execution_count": 21,
   "metadata": {
    "collapsed": true
   },
   "outputs": [],
   "source": [
    "a=tf.constant(10)\n",
    "b=tf.constant(2)\n",
    "c=tf.div(a, b)\n",
    "#init_op=tf.global_variables_initializer()"
   ]
  },
  {
   "cell_type": "code",
   "execution_count": 22,
   "metadata": {
    "collapsed": false
   },
   "outputs": [
    {
     "name": "stdout",
     "output_type": "stream",
     "text": [
      "10\n",
      "5\n"
     ]
    }
   ],
   "source": [
    "with tf.Session() as sess:\n",
    "    print a.eval()\n",
    "    sess.run(init_op)\n",
    "    print(sess.run(c))"
   ]
  },
  {
   "cell_type": "markdown",
   "metadata": {},
   "source": [
    "## network variable_name test"
   ]
  },
  {
   "cell_type": "code",
   "execution_count": 12,
   "metadata": {
    "collapsed": false
   },
   "outputs": [
    {
     "name": "stdout",
     "output_type": "stream",
     "text": [
      "Tensor(\"Mul_15:0\", shape=(), dtype=int32) Tensor(\"Const_9:0\", shape=(), dtype=int32)\n",
      "16\n"
     ]
    }
   ],
   "source": [
    "x=tf.constant(1)\n",
    "w=tf.constant(2)\n",
    "o=tf.multiply(x,w)\n",
    "o=tf.multiply(o,w)\n",
    "o=tf.multiply(o,w)\n",
    "o=tf.multiply(o,w)\n",
    "print o,w\n",
    "with tf.Session() as sess:\n",
    "    tf.global_variables_initializer()\n",
    "    r=sess.run(o)\n",
    "    print r"
   ]
  },
  {
   "cell_type": "markdown",
   "metadata": {},
   "source": [
    "## multi returns"
   ]
  },
  {
   "cell_type": "code",
   "execution_count": 5,
   "metadata": {
    "collapsed": false
   },
   "outputs": [
    {
     "name": "stdout",
     "output_type": "stream",
     "text": [
      "[2, 4, 8]\n"
     ]
    }
   ],
   "source": [
    "a=tf.constant(1)\n",
    "b=tf.constant(2)\n",
    "o1=tf.multiply(a,b)\n",
    "o2=tf.multiply(o1,b)\n",
    "o3=tf.multiply(o2,b)\n",
    "with tf.Session() as sess:\n",
    "    # how many times does o1=tf.muliply run?\n",
    "    print(sess.run([o1,o2,o3]))"
   ]
  },
  {
   "cell_type": "code",
   "execution_count": 10,
   "metadata": {
    "collapsed": false
   },
   "outputs": [
    {
     "name": "stdout",
     "output_type": "stream",
     "text": [
      "<tensorflow.python.framework.ops.Graph object at 0x7fb5fc0b3190>\n",
      "<tensorflow.python.framework.ops.Graph object at 0x7fb60043e1d0>\n"
     ]
    }
   ],
   "source": [
    "hello=tf.constant('hello')\n",
    "with tf.Graph().as_default():\n",
    "    hi=tf.constant(\"hi\")\n",
    "    print(hi.graph)\n",
    "    print(hello.graph)"
   ]
  },
  {
   "cell_type": "markdown",
   "metadata": {},
   "source": [
    "# Saver"
   ]
  },
  {
   "cell_type": "markdown",
   "metadata": {},
   "source": [
    "## 1-simple example"
   ]
  },
  {
   "cell_type": "code",
   "execution_count": 2,
   "metadata": {
    "collapsed": false
   },
   "outputs": [
    {
     "name": "stdout",
     "output_type": "stream",
     "text": [
      "[array([[ 1.,  1.,  1.],\n",
      "       [ 2.,  2.,  2.]], dtype=float32), array([[ 0.,  1.,  2.]], dtype=float32)]\n",
      "train/w:0 train/b:0\n"
     ]
    }
   ],
   "source": [
    "# in this method, when resotre variables, the coresponding Variable should be declare first.\n",
    "# save\n",
    "with tf.variable_scope('train'):\n",
    "    w=tf.Variable([[1,1,1],[2,2,2]],dtype = tf.float32,name='w')\n",
    "    b = tf.Variable([[0,1,2]],dtype = tf.float32,name='b')\n",
    "\n",
    "init=tf.global_variables_initializer()\n",
    "saver=tf.train.Saver()\n",
    "\n",
    "with tf.Session() as sess:\n",
    "    sess.run(init)\n",
    "    print(sess.run([w,b]))\n",
    "    print(w.name, b.name)\n",
    "    save_path=saver.save(sess, 'save/model01.ckpt')"
   ]
  },
  {
   "cell_type": "code",
   "execution_count": 2,
   "metadata": {
    "collapsed": false
   },
   "outputs": [
    {
     "name": "stdout",
     "output_type": "stream",
     "text": [
      "INFO:tensorflow:Restoring parameters from save/model.ckpt\n",
      "[[ 1.  1.  1.]\n",
      " [ 2.  2.  2.]]\n"
     ]
    }
   ],
   "source": [
    "# load! MUST firstly restart/refresh the kernel. Otherwise will got NAME INTERRUPTION.\n",
    "# declare variables with identical SHAPE,DTYPE,NAME. \n",
    "with tf.variable_scope('train'):\n",
    "    w=tf.Variable(tf.truncated_normal(shape=(2,3)), dtype=tf.float32, name='w')\n",
    "    b=tf.Variable(tf.truncated_normal(shape=(1,3)),dtype = tf.float32,name='b')\n",
    "    \n",
    "saver=tf.train.Saver()\n",
    "with tf.Session() as sess:\n",
    "    saver.restore(sess, \"save/model01.ckpt\")\n",
    "    print(sess.run(w))"
   ]
  },
  {
   "cell_type": "markdown",
   "metadata": {},
   "source": [
    "## 2-another example   -restore graph"
   ]
  },
  {
   "cell_type": "code",
   "execution_count": 2,
   "metadata": {
    "collapsed": false
   },
   "outputs": [
    {
     "name": "stdout",
     "output_type": "stream",
     "text": [
      "[34.0, 32.0, 12.0]\n"
     ]
    }
   ],
   "source": [
    "# save. \n",
    "x1=tf.placeholder(tf.float32, [], name='x1')\n",
    "x2=tf.placeholder(tf.float32, [], name='x2')\n",
    "b=tf.Variable(2.0, name='bias')\n",
    "\n",
    "feed_dict={x1:4, x2:8}\n",
    "y1=tf.add(x1, x2)\n",
    "y2=tf.multiply(x1, x2)\n",
    "y3=tf.add(y2, b, name='output') # when restore, this name will be used. so define a name.\n",
    "# or \n",
    "# tf.add_to_collections('outputs',y3)\n",
    "# when restore, y3=tf.get_collection('outputs')[0]\n",
    "\n",
    "saver=tf.train.Saver()\n",
    "\n",
    "with tf.Session() as sess:\n",
    "    sess.run(tf.global_variables_initializer())\n",
    "    print(sess.run([y3, y2, y1], feed_dict))\n",
    "    saver.save(sess, 'save/model02.ckpt')"
   ]
  },
  {
   "cell_type": "code",
   "execution_count": 2,
   "metadata": {
    "collapsed": false
   },
   "outputs": [
    {
     "name": "stdout",
     "output_type": "stream",
     "text": [
      "INFO:tensorflow:Restoring parameters from ./save/model02.ckpt\n",
      "2.0\n",
      "14.0\n"
     ]
    }
   ],
   "source": [
    "# restore. Restart the kernel first.\n",
    "with tf.Session() as sess:\n",
    "    saver=tf.train.import_meta_graph('./save/model02.ckpt.meta')\n",
    "    saver.restore(sess, tf.train.latest_checkpoint('./save'))\n",
    "    \n",
    "    # test variable\n",
    "    print(sess.run('bias:0'))\n",
    "    # test graph\n",
    "    graph=tf.get_default_graph()\n",
    "    x1=graph.get_tensor_by_name(\"x1:0\")\n",
    "    x2=graph.get_tensor_by_name(\"x2:0\")\n",
    "    feed_dict={x1:3, x2:4}\n",
    "    \n",
    "    out=graph.get_tensor_by_name(\"output:0\")\n",
    "    # or out=graph.get_operation_by_name('output').outputs[0]\n",
    "    \n",
    "    print(sess.run(out, feed_dict=feed_dict))"
   ]
  },
  {
   "cell_type": "code",
   "execution_count": 40,
   "metadata": {
    "collapsed": false
   },
   "outputs": [
    {
     "name": "stdout",
     "output_type": "stream",
     "text": [
      "ch01\n",
      "ch02\n",
      "[1.0, 2.0, 3.0]\n"
     ]
    }
   ],
   "source": [
    "class net:\n",
    "    def __init__(self):\n",
    "        self.input=tf.placeholder(tf.float32,[])\n",
    "        #self.forward(self.input)\n",
    "    def forward(self, img):\n",
    "        w=tf.Variable(1.0, name='w')\n",
    "        o1=tf.add(img, w)\n",
    "        o2=tf.add(o1, w)\n",
    "        print('ch01')\n",
    "        o3=tf.add(o2, w)\n",
    "        print('ch02')\n",
    "        return [o1,o2,o3]\n",
    "\n",
    "x=tf.placeholder(tf.float32,[])\n",
    "m=net()\n",
    "out=m.forward(x)\n",
    "with tf.Session() as sess:\n",
    "    sess.run(tf.global_variables_initializer())\n",
    "    print(sess.run(out,feed_dict={x:0.0}))"
   ]
  },
  {
   "cell_type": "code",
   "execution_count": 3,
   "metadata": {
    "collapsed": false
   },
   "outputs": [
    {
     "data": {
      "text/plain": [
       "array([[2, 3],\n",
       "       [4, 5]])"
      ]
     },
     "execution_count": 3,
     "metadata": {},
     "output_type": "execute_result"
    }
   ],
   "source": [
    "x=[[2,3],[4,5]]\n",
    "np.array(x)"
   ]
  }
 ],
 "metadata": {
  "anaconda-cloud": {},
  "kernelspec": {
   "display_name": "Python [default]",
   "language": "python",
   "name": "python3"
  },
  "language_info": {
   "codemirror_mode": {
    "name": "ipython",
    "version": 3
   },
   "file_extension": ".py",
   "mimetype": "text/x-python",
   "name": "python",
   "nbconvert_exporter": "python",
   "pygments_lexer": "ipython3",
   "version": "3.5.2"
  }
 },
 "nbformat": 4,
 "nbformat_minor": 1
}
