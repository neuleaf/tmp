{
 "cells": [
  {
   "cell_type": "code",
   "execution_count": 1,
   "metadata": {
    "collapsed": true
   },
   "outputs": [],
   "source": [
    "import tensorflow as tf\n",
    "import numpy as np"
   ]
  },
  {
   "cell_type": "code",
   "execution_count": 21,
   "metadata": {},
   "outputs": [],
   "source": [
    "a=tf.constant(10)\n",
    "b=tf.constant(2)\n",
    "c=tf.div(a, b)\n",
    "#init_op=tf.global_variables_initializer()"
   ]
  },
  {
   "cell_type": "code",
   "execution_count": 22,
   "metadata": {},
   "outputs": [
    {
     "name": "stdout",
     "output_type": "stream",
     "text": [
      "10\n",
      "5\n"
     ]
    }
   ],
   "source": [
    "with tf.Session() as sess:\n",
    "    print a.eval()\n",
    "    sess.run(init_op)\n",
    "    print(sess.run(c))"
   ]
  },
  {
   "cell_type": "markdown",
   "metadata": {},
   "source": [
    "## network variable_name test"
   ]
  },
  {
   "cell_type": "code",
   "execution_count": 12,
   "metadata": {},
   "outputs": [
    {
     "name": "stdout",
     "output_type": "stream",
     "text": [
      "Tensor(\"Mul_15:0\", shape=(), dtype=int32) Tensor(\"Const_9:0\", shape=(), dtype=int32)\n",
      "16\n"
     ]
    }
   ],
   "source": [
    "x=tf.constant(1)\n",
    "w=tf.constant(2)\n",
    "o=tf.multiply(x,w)\n",
    "o=tf.multiply(o,w)\n",
    "o=tf.multiply(o,w)\n",
    "o=tf.multiply(o,w)\n",
    "print o,w\n",
    "with tf.Session() as sess:\n",
    "    tf.global_variables_initializer()\n",
    "    r=sess.run(o)\n",
    "    print r"
   ]
  },
  {
   "cell_type": "markdown",
   "metadata": {},
   "source": [
    "## multi returns"
   ]
  },
  {
   "cell_type": "code",
   "execution_count": 5,
   "metadata": {},
   "outputs": [
    {
     "name": "stdout",
     "output_type": "stream",
     "text": [
      "[2, 4, 8]\n"
     ]
    }
   ],
   "source": [
    "a=tf.constant(1)\n",
    "b=tf.constant(2)\n",
    "o1=tf.multiply(a,b)\n",
    "o2=tf.multiply(o1,b)\n",
    "o3=tf.multiply(o2,b)\n",
    "with tf.Session() as sess:\n",
    "    # how many times does o1=tf.muliply run?\n",
    "    print(sess.run([o1,o2,o3]))"
   ]
  },
  {
   "cell_type": "code",
   "execution_count": 10,
   "metadata": {},
   "outputs": [
    {
     "name": "stdout",
     "output_type": "stream",
     "text": [
      "<tensorflow.python.framework.ops.Graph object at 0x7fb5fc0b3190>\n",
      "<tensorflow.python.framework.ops.Graph object at 0x7fb60043e1d0>\n"
     ]
    }
   ],
   "source": [
    "hello=tf.constant('hello')\n",
    "with tf.Graph().as_default():\n",
    "    hi=tf.constant(\"hi\")\n",
    "    print(hi.graph)\n",
    "    print(hello.graph)"
   ]
  },
  {
   "cell_type": "markdown",
   "metadata": {},
   "source": [
    "# Saver"
   ]
  },
  {
   "cell_type": "markdown",
   "metadata": {},
   "source": [
    "## 1-simple example"
   ]
  },
  {
   "cell_type": "code",
   "execution_count": 5,
   "metadata": {},
   "outputs": [
    {
     "name": "stdout",
     "output_type": "stream",
     "text": [
      "[array([[ 1.,  1.,  1.],\n",
      "       [ 2.,  2.,  2.]], dtype=float32), array([[ 0.,  1.,  2.]], dtype=float32)]\n",
      "train_1/w:0 train_1/b:0\n"
     ]
    }
   ],
   "source": [
    "# in this method, when resotre variables, the coresponding Variable should be declare first.\n",
    "# save\n",
    "with tf.variable_scope('train'):\n",
    "    w=tf.Variable([[1,1,1],[2,2,2]],dtype = tf.float32,name='w')\n",
    "    b = tf.Variable([[0,1,2]],dtype = tf.float32,name='b')\n",
    "\n",
    "init=tf.global_variables_initializer()\n",
    "saver=tf.train.Saver()\n",
    "\n",
    "with tf.Session() as sess:\n",
    "    sess.run(init)\n",
    "    print(sess.run([w,b]))\n",
    "    print(w.name, b.name)\n",
    "    save_path=saver.save(sess, 'save/model.ckpt')"
   ]
  },
  {
   "cell_type": "code",
   "execution_count": 2,
   "metadata": {},
   "outputs": [
    {
     "name": "stdout",
     "output_type": "stream",
     "text": [
      "INFO:tensorflow:Restoring parameters from save/model.ckpt\n",
      "[[ 1.  1.  1.]\n",
      " [ 2.  2.  2.]]\n"
     ]
    }
   ],
   "source": [
    "# load! MUST firstly restart/refresh the kernel. Otherwise will got NAME INTERRUPTION.\n",
    "# declare variables with identical SHAPE,DTYPE,NAME. \n",
    "with tf.variable_scope('train'):\n",
    "    w=tf.Variable(tf.truncated_normal(shape=(2,3)), dtype=tf.float32, name='w')\n",
    "    b=tf.Variable(tf.truncated_normal(shape=(1,3)),dtype = tf.float32,name='b')\n",
    "    \n",
    "saver=tf.train.Saver()\n",
    "with tf.Session() as sess:\n",
    "    saver.restore(sess, \"save/model.ckpt\")\n",
    "    print(sess.run(w))"
   ]
  },
  {
   "cell_type": "markdown",
   "metadata": {},
   "source": [
    "## 2-another example"
   ]
  },
  {
   "cell_type": "code",
   "execution_count": null,
   "metadata": {
    "collapsed": true
   },
   "outputs": [],
   "source": []
  }
 ],
 "metadata": {
  "anaconda-cloud": {},
  "kernelspec": {
   "display_name": "Python 3.5",
   "language": "python",
   "name": "py35"
  },
  "language_info": {
   "codemirror_mode": {
    "name": "ipython",
    "version": 3
   },
   "file_extension": ".py",
   "mimetype": "text/x-python",
   "name": "python",
   "nbconvert_exporter": "python",
   "pygments_lexer": "ipython3",
   "version": "3.5.4"
  }
 },
 "nbformat": 4,
 "nbformat_minor": 1
}
