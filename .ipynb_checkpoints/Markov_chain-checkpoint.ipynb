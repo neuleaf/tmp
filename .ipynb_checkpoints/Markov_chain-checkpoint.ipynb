{
 "cells": [
  {
   "cell_type": "code",
   "execution_count": 1,
   "metadata": {
    "collapsed": true
   },
   "outputs": [],
   "source": [
    "import numpy as np"
   ]
  },
  {
   "cell_type": "code",
   "execution_count": 2,
   "metadata": {
    "collapsed": true
   },
   "outputs": [],
   "source": [
    "p0=np.array([[0.65, 0.28, 0.07], [0.15,0.67,0.18],[0.12,0.36,0.52]])"
   ]
  },
  {
   "cell_type": "code",
   "execution_count": 4,
   "metadata": {
    "collapsed": false
   },
   "outputs": [
    {
     "name": "stdout",
     "output_type": "stream",
     "text": [
      "[[ 0.28650138  0.48852158  0.22497704]\n",
      " [ 0.28650138  0.48852158  0.22497704]\n",
      " [ 0.28650138  0.48852158  0.22497704]]\n"
     ]
    }
   ],
   "source": [
    "p=p0\n",
    "for i in range(100):\n",
    "    p=np.matmul(p,p0)\n",
    "print(p)"
   ]
  },
  {
   "cell_type": "code",
   "execution_count": 6,
   "metadata": {
    "collapsed": false
   },
   "outputs": [
    {
     "name": "stdout",
     "output_type": "stream",
     "text": [
      "[[ 0.28650138  0.48852158  0.22497704]\n",
      " [ 0.28650138  0.48852158  0.22497704]\n",
      " [ 0.28650138  0.48852158  0.22497704]]\n"
     ]
    }
   ],
   "source": [
    "print(np.matmul(p,p0))"
   ]
  },
  {
   "cell_type": "code",
   "execution_count": 7,
   "metadata": {
    "collapsed": true
   },
   "outputs": [],
   "source": [
    "pi=np.array([0.75, 0.12, 0.13])"
   ]
  },
  {
   "cell_type": "code",
   "execution_count": 9,
   "metadata": {
    "collapsed": false
   },
   "outputs": [
    {
     "name": "stdout",
     "output_type": "stream",
     "text": [
      "[ 0.28650138  0.48852158  0.22497704]\n"
     ]
    }
   ],
   "source": [
    "pi_n=np.matmul(pi,p)\n",
    "print(pi_n)"
   ]
  },
  {
   "cell_type": "code",
   "execution_count": 10,
   "metadata": {
    "collapsed": false
   },
   "outputs": [
    {
     "data": {
      "text/plain": [
       "array([ 0.28650138,  0.48852158,  0.22497704])"
      ]
     },
     "execution_count": 10,
     "metadata": {},
     "output_type": "execute_result"
    }
   ],
   "source": [
    "np.matmul(pi_n, p0)"
   ]
  }
 ],
 "metadata": {
  "anaconda-cloud": {},
  "kernelspec": {
   "display_name": "Python [default]",
   "language": "python",
   "name": "python3"
  },
  "language_info": {
   "codemirror_mode": {
    "name": "ipython",
    "version": 3
   },
   "file_extension": ".py",
   "mimetype": "text/x-python",
   "name": "python",
   "nbconvert_exporter": "python",
   "pygments_lexer": "ipython3",
   "version": "3.5.2"
  }
 },
 "nbformat": 4,
 "nbformat_minor": 1
}
