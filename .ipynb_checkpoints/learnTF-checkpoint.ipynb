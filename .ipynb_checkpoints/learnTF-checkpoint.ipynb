{
 "cells": [
  {
   "cell_type": "code",
   "execution_count": 3,
   "metadata": {
    "collapsed": true
   },
   "outputs": [],
   "source": [
    "import tensorflow as tf\n",
    "import numpy as np"
   ]
  },
  {
   "cell_type": "markdown",
   "metadata": {},
   "source": [
    "### construct Graph"
   ]
  },
  {
   "cell_type": "code",
   "execution_count": 4,
   "metadata": {},
   "outputs": [
    {
     "name": "stdout",
     "output_type": "stream",
     "text": [
      "(2,)\n"
     ]
    }
   ],
   "source": [
    "hello=tf.constant(\"hello, world.\")\n",
    "a=tf.constant([3,2])\n",
    "b=tf.constant([1,5])\n",
    "# print(type(b))\n",
    "c=tf.add(a,b)\n",
    "# print(type(c))\n",
    "print(c.get_shape())"
   ]
  },
  {
   "cell_type": "markdown",
   "metadata": {},
   "source": [
    "### run Graph in session "
   ]
  },
  {
   "cell_type": "code",
   "execution_count": 4,
   "metadata": {},
   "outputs": [
    {
     "name": "stdout",
     "output_type": "stream",
     "text": [
      "b'hello, world.'\n",
      "7\n",
      "7\n"
     ]
    }
   ],
   "source": [
    "with tf.Session() as sess:\n",
    "    print(sess.run(hello))\n",
    "    print(sess.run(c))\n",
    "    print(c.eval())"
   ]
  },
  {
   "cell_type": "markdown",
   "metadata": {},
   "source": [
    "### another way to run sess"
   ]
  },
  {
   "cell_type": "code",
   "execution_count": 9,
   "metadata": {},
   "outputs": [
    {
     "name": "stdout",
     "output_type": "stream",
     "text": [
      "4\n"
     ]
    }
   ],
   "source": [
    "sess=tf.Session()\n",
    "print(b.eval(session=sess))\n",
    "sess.close()"
   ]
  },
  {
   "cell_type": "markdown",
   "metadata": {},
   "source": [
    "## Graph as default"
   ]
  },
  {
   "cell_type": "code",
   "execution_count": 11,
   "metadata": {},
   "outputs": [
    {
     "name": "stdout",
     "output_type": "stream",
     "text": [
      "<function get_default_graph at 0x7f89187a3e18>\n",
      "<tensorflow.python.framework.ops.Graph object at 0x7f8951a1ca58>\n",
      "<tensorflow.python.framework.ops.Graph object at 0x7f8951a1ca58>\n",
      "<function get_default_graph at 0x7f89187a3e18>\n",
      "<tensorflow.python.framework.ops.Graph object at 0x7f8916b8bd68>\n"
     ]
    }
   ],
   "source": [
    "print(tf.get_default_graph)\n",
    "hi=tf.constant(\"HI\")\n",
    "hi1=tf.constant('ss')\n",
    "print(hi.graph)\n",
    "print(hi1.graph)\n",
    "with tf.Graph().as_default():\n",
    "    hi2=tf.constant(\"hi2\")\n",
    "    print(tf.get_default_graph)\n",
    "    print(hi2.graph)"
   ]
  },
  {
   "cell_type": "markdown",
   "metadata": {},
   "source": [
    "### variables"
   ]
  },
  {
   "cell_type": "code",
   "execution_count": 19,
   "metadata": {},
   "outputs": [
    {
     "name": "stdout",
     "output_type": "stream",
     "text": [
      "Tensor(\"Sigmoid_1:0\", shape=(2, 2), dtype=float32)\n"
     ]
    }
   ],
   "source": [
    "w=tf.Variable(initial_value=[[1,2,1],[1,3,4]],dtype=tf.float32, name='w')\n",
    "x=tf.Variable(initial_value=[[1,1],[1,1],[1,1]],dtype=tf.float32, name='inputx')\n",
    "y=tf.matmul(w,x)\n",
    "z=tf.sigmoid(y)\n",
    "print(z)\n",
    "init_op=tf.global_variables_initializer()"
   ]
  },
  {
   "cell_type": "code",
   "execution_count": 18,
   "metadata": {},
   "outputs": [
    {
     "name": "stdout",
     "output_type": "stream",
     "text": [
      "[[ 0.98201376  0.98201376]\n",
      " [ 0.99966466  0.99966466]] [[ 0.98201376  0.98201376]\n",
      " [ 0.99966466  0.99966466]]\n"
     ]
    }
   ],
   "source": [
    "with tf.Session() as sess:\n",
    "    sess.run(init_op)\n",
    "    r=sess.run(z)\n",
    "    r1=z.eval()\n",
    "    print(r, r1)"
   ]
  },
  {
   "cell_type": "code",
   "execution_count": 22,
   "metadata": {},
   "outputs": [
    {
     "name": "stdout",
     "output_type": "stream",
     "text": [
      "[[ 1.05303216  1.08981395]\n",
      " [ 1.53957582  1.75329125]]\n"
     ]
    }
   ],
   "source": [
    "x1=tf.placeholder(tf.float32, shape=[2,3])\n",
    "x2=tf.placeholder(tf.float32, shape=[3,2])\n",
    "y=tf.matmul(x1,x2)\n",
    "with tf.Session() as sess:\n",
    "    m1=np.random.rand(2,3)\n",
    "    m2=np.random.rand(3,2)\n",
    "    print(sess.run(y, feed_dict={x1:m1, x2:m2}))"
   ]
  }
 ],
 "metadata": {
  "kernelspec": {
   "display_name": "Python 3.5",
   "language": "python",
   "name": "py35"
  },
  "language_info": {
   "codemirror_mode": {
    "name": "ipython",
    "version": 3
   },
   "file_extension": ".py",
   "mimetype": "text/x-python",
   "name": "python",
   "nbconvert_exporter": "python",
   "pygments_lexer": "ipython3",
   "version": "3.5.4"
  }
 },
 "nbformat": 4,
 "nbformat_minor": 2
}
