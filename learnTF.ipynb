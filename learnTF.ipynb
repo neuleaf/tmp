{
 "cells": [
  {
   "cell_type": "code",
   "execution_count": 1,
   "metadata": {},
   "outputs": [],
   "source": [
    "import tensorflow as tf\n",
    "import numpy as np"
   ]
  },
  {
   "cell_type": "markdown",
   "metadata": {},
   "source": [
    "### construct Graph"
   ]
  },
  {
   "cell_type": "code",
   "execution_count": 4,
   "metadata": {},
   "outputs": [
    {
     "name": "stdout",
     "output_type": "stream",
     "text": [
      "(2,)\n"
     ]
    }
   ],
   "source": [
    "hello=tf.constant(\"hello, world.\")\n",
    "a=tf.constant([3,2])\n",
    "b=tf.constant([1,5])\n",
    "# print(type(b))\n",
    "c=tf.add(a,b)\n",
    "# print(type(c))\n",
    "print(c.get_shape())"
   ]
  },
  {
   "cell_type": "markdown",
   "metadata": {},
   "source": [
    "### run Graph in session "
   ]
  },
  {
   "cell_type": "code",
   "execution_count": 4,
   "metadata": {},
   "outputs": [
    {
     "name": "stdout",
     "output_type": "stream",
     "text": [
      "b'hello, world.'\n",
      "7\n",
      "7\n"
     ]
    }
   ],
   "source": [
    "with tf.Session() as sess:\n",
    "    print(sess.run(hello))\n",
    "    print(sess.run(c))\n",
    "    print(c.eval())"
   ]
  },
  {
   "cell_type": "markdown",
   "metadata": {},
   "source": [
    "### another way to run sess"
   ]
  },
  {
   "cell_type": "code",
   "execution_count": 9,
   "metadata": {},
   "outputs": [
    {
     "name": "stdout",
     "output_type": "stream",
     "text": [
      "4\n"
     ]
    }
   ],
   "source": [
    "sess=tf.Session()\n",
    "print(b.eval(session=sess))\n",
    "sess.close()"
   ]
  },
  {
   "cell_type": "markdown",
   "metadata": {},
   "source": [
    "## Graph as default"
   ]
  },
  {
   "cell_type": "code",
   "execution_count": 12,
   "metadata": {},
   "outputs": [
    {
     "name": "stdout",
     "output_type": "stream",
     "text": [
      "<tensorflow.python.framework.ops.Graph object at 0x7f453d6f5518>\n",
      "<tensorflow.python.framework.ops.Graph object at 0x7f453d6f5518>\n",
      "<tensorflow.python.framework.ops.Graph object at 0x7f45000679b0>\n",
      "<tensorflow.python.framework.ops.Graph object at 0x7f45000679b0>\n",
      "b'HI'\n"
     ]
    }
   ],
   "source": [
    "hi=tf.constant(\"HI\")\n",
    "print(hi.graph)\n",
    "print(tf.get_default_graph())\n",
    "# assert hi.graph is tf.get_default_graph()\n",
    "\n",
    "with tf.Graph().as_default():\n",
    "    hi2=tf.constant(\"hi2\")\n",
    "    print(tf.get_default_graph())\n",
    "    print(hi2.graph)\n",
    "    \n",
    "with tf.Session() as sess:\n",
    "    print(sess.run(hi))\n",
    "    # print(sess.run(hi2)) # ERROR! is not an element of this graph."
   ]
  },
  {
   "cell_type": "code",
   "execution_count": 16,
   "metadata": {},
   "outputs": [
    {
     "name": "stdout",
     "output_type": "stream",
     "text": [
      "<tensorflow.python.framework.ops.Graph object at 0x7f453d6f5518>\n",
      "<tensorflow.python.framework.ops.Graph object at 0x7f453d6f5518>\n",
      "<tensorflow.python.framework.ops.Graph object at 0x7f453d6f5518>\n",
      "<tensorflow.python.framework.ops.Graph object at 0x7f453d6f5518>\n",
      "4\n"
     ]
    }
   ],
   "source": [
    "# since FUNCTION is only compiled when CALL, so is default_graph is \n",
    "# the same as its CALLER\n",
    "def func_graph(x):\n",
    "    y=tf.add(x, x)\n",
    "    print(y.graph)\n",
    "    return y\n",
    "a=tf.constant(2)\n",
    "x=tf.constant(2)\n",
    "y=func_graph(x)\n",
    "with tf.Session() as sess:\n",
    "    print(tf.get_default_graph())\n",
    "    print(x.graph)\n",
    "    print(y.graph)\n",
    "    print(sess.run(y))"
   ]
  },
  {
   "cell_type": "markdown",
   "metadata": {},
   "source": [
    "## specify graph in sess"
   ]
  },
  {
   "cell_type": "code",
   "execution_count": 24,
   "metadata": {},
   "outputs": [
    {
     "name": "stdout",
     "output_type": "stream",
     "text": [
      "2\n"
     ]
    }
   ],
   "source": [
    "# It's ok to run different Graph in a same sess. But you have to specify a Graph when init a Session.\n",
    "with tf.Graph().as_default() as g1:\n",
    "    a=tf.constant(1)\n",
    "with tf.Graph().as_default() as g2:\n",
    "    b=tf.constant(2)\n",
    "\n",
    "with tf.Session(graph=g2) as sess:\n",
    "    print(sess.run(b))"
   ]
  },
  {
   "cell_type": "markdown",
   "metadata": {},
   "source": [
    "### variables"
   ]
  },
  {
   "cell_type": "code",
   "execution_count": 19,
   "metadata": {},
   "outputs": [
    {
     "name": "stdout",
     "output_type": "stream",
     "text": [
      "Tensor(\"Sigmoid_1:0\", shape=(2, 2), dtype=float32)\n"
     ]
    }
   ],
   "source": [
    "w=tf.Variable(initial_value=[[1,2,1],[1,3,4]],dtype=tf.float32, name='w')\n",
    "x=tf.Variable(initial_value=[[1,1],[1,1],[1,1]],dtype=tf.float32, name='inputx')\n",
    "y=tf.matmul(w,x)\n",
    "z=tf.sigmoid(y)\n",
    "print(z)\n",
    "init_op=tf.global_variables_initializer()"
   ]
  },
  {
   "cell_type": "code",
   "execution_count": 18,
   "metadata": {},
   "outputs": [
    {
     "name": "stdout",
     "output_type": "stream",
     "text": [
      "[[ 0.98201376  0.98201376]\n",
      " [ 0.99966466  0.99966466]] [[ 0.98201376  0.98201376]\n",
      " [ 0.99966466  0.99966466]]\n"
     ]
    }
   ],
   "source": [
    "with tf.Session() as sess:\n",
    "    sess.run(init_op)\n",
    "    r=sess.run(z)\n",
    "    r1=z.eval()\n",
    "    print(r, r1)"
   ]
  },
  {
   "cell_type": "code",
   "execution_count": 22,
   "metadata": {},
   "outputs": [
    {
     "name": "stdout",
     "output_type": "stream",
     "text": [
      "[[ 1.05303216  1.08981395]\n",
      " [ 1.53957582  1.75329125]]\n"
     ]
    }
   ],
   "source": [
    "x1=tf.placeholder(tf.float32, shape=[2,3])\n",
    "x2=tf.placeholder(tf.float32, shape=[3,2])\n",
    "y=tf.matmul(x1,x2)\n",
    "with tf.Session() as sess:\n",
    "    m1=np.random.rand(2,3)\n",
    "    m2=np.random.rand(3,2)\n",
    "    print(sess.run(y, feed_dict={x1:m1, x2:m2}))"
   ]
  },
  {
   "cell_type": "markdown",
   "metadata": {},
   "source": [
    "## example linear regression"
   ]
  },
  {
   "cell_type": "code",
   "execution_count": null,
   "metadata": {},
   "outputs": [],
   "source": [
    "import matplotlib.pyplot as plt\n",
    "\n",
    "# Prepare train data\n",
    "train_X = np.linspace(-1, 1, 100)\n",
    "train_Y = 2 * train_X + np.random.randn(*train_X.shape) * 0.33 + 10\n",
    "\n",
    "# Define the model\n",
    "X = tf.placeholder(\"float\")\n",
    "Y = tf.placeholder(\"float\")\n",
    "w = tf.Variable(0.0, name=\"weight\")\n",
    "b = tf.Variable(0.0, name=\"bias\")\n",
    "loss = tf.square(Y - X*w - b)\n",
    "train_op = tf.train.GradientDescentOptimizer(0.01).minimize(loss)\n",
    "\n",
    "# Create session to run\n",
    "with tf.Session() as sess:\n",
    "    sess.run(tf.global_variables_initializer())\n",
    "\n",
    "    epoch = 1\n",
    "    for i in range(10):\n",
    "        for (x, y) in zip(train_X, train_Y):\n",
    "            _, w_value, b_value = sess.run([train_op, w, b],feed_dict={X: x,Y: y})\n",
    "        print(\"Epoch: {}, w: {}, b: {}\".format(epoch, w_value, b_value))\n",
    "        epoch += 1\n",
    "\n",
    "\n",
    "#draw\n",
    "plt.plot(train_X,train_Y,\"+\")\n",
    "plt.plot(train_X,train_X.dot(w_value)+b_value)\n",
    "plt.show()"
   ]
  },
  {
   "cell_type": "markdown",
   "metadata": {},
   "source": [
    "## variable name & ops name"
   ]
  },
  {
   "cell_type": "code",
   "execution_count": 3,
   "metadata": {
    "collapsed": true
   },
   "outputs": [],
   "source": [
    "# tf.name_scope only for OPS name!\n",
    "with tf.variable_scope(\"foo\"):\n",
    "    with tf.name_scope(\"bar\"):\n",
    "        v = tf.get_variable(\"v\", [1])\n",
    "        x = 1.0 + v\n",
    "assert v.name == \"foo/v:0\"\n",
    "assert x.op.name == \"foo/bar/add\""
   ]
  },
  {
   "cell_type": "code",
   "execution_count": 6,
   "metadata": {},
   "outputs": [
    {
     "name": "stdout",
     "output_type": "stream",
     "text": [
      "encode/w:0\n",
      "encode/w:0\n",
      "Tensor(\"encode_4/Add:0\", shape=(1, 2), dtype=float32)\n"
     ]
    }
   ],
   "source": [
    "# tf.get_variable()  tf.Variable(). The former will check if variable name already exist.\n",
    "# if exist && not reuse, will raise ERROR.\n",
    "# one way to solve this is use SCOPE and set REUSE\n",
    "def network(input):\n",
    "    w=tf.get_variable(name=\"w\", shape=[1,2],initializer=tf.ones_initializer())\n",
    "    print(w.name)\n",
    "    o=tf.add(w, input)\n",
    "    return o\n",
    "\n",
    "with tf.variable_scope('encode',reuse=True) as scope1:\n",
    "    in1=tf.constant([1.0,1.0])\n",
    "    in2=tf.constant([3.0,3])\n",
    "    r1=network(in1)\n",
    "    #scope1.reuse_variables()\n",
    "    r2=network(in2)\n",
    "    print(r1)"
   ]
  },
  {
   "cell_type": "code",
   "execution_count": 7,
   "metadata": {},
   "outputs": [
    {
     "name": "stdout",
     "output_type": "stream",
     "text": [
      "True False\n"
     ]
    }
   ],
   "source": [
    "# REUSE don't work for tf.Variable, tf.Variable always make new variables.\n",
    "with tf.variable_scope(\"scope1\"):\n",
    "    w1 = tf.get_variable(\"w1\", shape=[])\n",
    "    w2 = tf.Variable(0.0, name=\"w2\")\n",
    "with tf.variable_scope(\"scope1\", reuse=True):\n",
    "    w1_p = tf.get_variable(\"w1\", shape=[])\n",
    "    w2_p = tf.Variable(1.0, name=\"w2\")\n",
    "\n",
    "print(w1 is w1_p, w2 is w2_p)"
   ]
  },
  {
   "cell_type": "code",
   "execution_count": null,
   "metadata": {},
   "outputs": [],
   "source": [
    "v1=tf.Variable([1,2], name='v')\n",
    "print(v1.name)\n",
    "v2=tf.get_variable(name='v', shape=[2])\n",
    "print(v2.name)"
   ]
  },
  {
   "cell_type": "code",
   "execution_count": 26,
   "metadata": {},
   "outputs": [
    {
     "name": "stdout",
     "output_type": "stream",
     "text": [
      "[[ 0.09999033 -0.09345477  0.08982938]\n",
      " [ 0.13874331  0.09924894 -0.07598428]]\n"
     ]
    }
   ],
   "source": [
    "# use of tf.get_variable\n",
    "a1=tf.get_variable(name='a1', shape=[])\n",
    "a2=tf.get_variable(name='a2', shape=[2], initializer=tf.constant_initializer(5,5))\n",
    "a3=tf.get_variable(name='a3', shape=[2,3], initializer=tf.random_normal_initializer(mean=0.,stddev=0.1))\n",
    "with tf.Session() as sess:\n",
    "    sess.run(tf.global_variables_initializer())\n",
    "    print(a1.eval())\n",
    "    print(a2.eval())\n",
    "    print(a3.eval())"
   ]
  },
  {
   "cell_type": "markdown",
   "metadata": {},
   "source": [
    "## Batch Normalization"
   ]
  },
  {
   "cell_type": "code",
   "execution_count": null,
   "metadata": {
    "collapsed": true
   },
   "outputs": [],
   "source": []
  }
 ],
 "metadata": {
  "anaconda-cloud": {},
  "kernelspec": {
   "display_name": "Python 3.5",
   "language": "python",
   "name": "py35"
  },
  "language_info": {
   "codemirror_mode": {
    "name": "ipython",
    "version": 3
   },
   "file_extension": ".py",
   "mimetype": "text/x-python",
   "name": "python",
   "nbconvert_exporter": "python",
   "pygments_lexer": "ipython3",
   "version": "3.5.4"
  }
 },
 "nbformat": 4,
 "nbformat_minor": 2
}
