{
 "cells": [
  {
   "cell_type": "code",
   "execution_count": 1,
   "metadata": {
    "collapsed": true
   },
   "outputs": [],
   "source": [
    "import tensorflow as tf\n",
    "import numpy as np"
   ]
  },
  {
   "cell_type": "code",
   "execution_count": 4,
   "metadata": {},
   "outputs": [
    {
     "name": "stdout",
     "output_type": "stream",
     "text": [
      "<tensorflow.python.framework.ops.Graph object at 0x7f352076f5c0>\n",
      "<tensorflow.python.framework.ops.Graph object at 0x7f352076f5c0>\n",
      "g: <tensorflow.python.framework.ops.Graph object at 0x7f35207724e0>\n",
      "<tensorflow.python.framework.ops.Graph object at 0x7f35207724e0>\n",
      "g2: <tensorflow.python.framework.ops.Graph object at 0x7f3520772d30>\n",
      "<tensorflow.python.framework.ops.Graph object at 0x7f352076f5c0>\n"
     ]
    }
   ],
   "source": [
    "c=tf.constant(value=1)\n",
    "#print(assert c.graph is tf.get_default_graph())\n",
    "print(c.graph)\n",
    "print(tf.get_default_graph())\n",
    "\n",
    "g=tf.Graph()\n",
    "print(\"g:\",g)\n",
    "with g.as_default():\n",
    "    d=tf.constant(value=2)\n",
    "    print(d.graph)\n",
    "    #print(g)\n",
    "\n",
    "g2=tf.Graph()\n",
    "print(\"g2:\",g2)\n",
    "g2.as_default()\n",
    "e=tf.constant(value=15)\n",
    "print(e.graph)"
   ]
  },
  {
   "cell_type": "code",
   "execution_count": 10,
   "metadata": {},
   "outputs": [
    {
     "data": {
      "text/plain": [
       "array([[2, 1, 3],\n",
       "       [6, 4, 5]], dtype=uint8)"
      ]
     },
     "execution_count": 10,
     "metadata": {},
     "output_type": "execute_result"
    }
   ],
   "source": [
    "a=np.array([[2,1,3],[6,4,5]])\n",
    "a.astype(np.uint8)"
   ]
  }
 ],
 "metadata": {
  "kernelspec": {
   "display_name": "tf1.2 py3.5",
   "language": "python",
   "name": "tf"
  },
  "language_info": {
   "codemirror_mode": {
    "name": "ipython",
    "version": 3
   },
   "file_extension": ".py",
   "mimetype": "text/x-python",
   "name": "python",
   "nbconvert_exporter": "python",
   "pygments_lexer": "ipython3",
   "version": "3.5.2"
  }
 },
 "nbformat": 4,
 "nbformat_minor": 2
}
